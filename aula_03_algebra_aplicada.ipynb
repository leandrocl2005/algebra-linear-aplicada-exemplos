{
 "cells": [
  {
   "cell_type": "markdown",
   "metadata": {},
   "source": [
    "# Aula 3: Representação matricial de sistema e tipos de matrizes"
   ]
  },
  {
   "cell_type": "markdown",
   "metadata": {},
   "source": [
    "## Tipos de matrizes"
   ]
  },
  {
   "cell_type": "markdown",
   "metadata": {},
   "source": [
    "A matriz $A = (a_{ij}) \\in {\\cal{M}}_{m\\times n}$ com $a_{ij} = 0$ para quaisquer $i$ e $j$ é chamada de <b>matriz nula</b> e denotada por $0$. "
   ]
  },
  {
   "cell_type": "markdown",
   "metadata": {},
   "source": [
    "A matriz $A = (a_{ij}) \\in {\\cal{M}}_{n\\times n}$ com $a_{ij} = 0$ para quaisquer $i \\neq j$ e $a_{ij} = 1$ quaisquer $i$ e $j$ é chamada de <b>matriz identidade de ordem n</b> denotada por $I$. "
   ]
  },
  {
   "cell_type": "markdown",
   "metadata": {},
   "source": [
    "Seja $A = (a_{ij}) \\in {\\cal{M}}_{n\\times n}$, a matriz $B = (b_{ij}) \\in {\\cal{M}}_{n\\times n}$ tal que $BA = I$ é chamada de <b>matriz inversa da matriz A</b> e denotada por $A^{-1}$."
   ]
  },
  {
   "cell_type": "markdown",
   "metadata": {},
   "source": [
    "## Tipos de matrizes com Python"
   ]
  },
  {
   "cell_type": "markdown",
   "metadata": {},
   "source": [
    "Antes de mais nada, vamos importar a biblioteca numpy."
   ]
  },
  {
   "cell_type": "code",
   "execution_count": 22,
   "metadata": {},
   "outputs": [],
   "source": [
    "import numpy as np"
   ]
  },
  {
   "cell_type": "markdown",
   "metadata": {},
   "source": [
    "Para declarar uma matriz $Z \\in {\\cal{M}}_{2\\times 4}$ nula fazemos:"
   ]
  },
  {
   "cell_type": "code",
   "execution_count": 23,
   "metadata": {},
   "outputs": [
    {
     "name": "stdout",
     "output_type": "stream",
     "text": [
      "[[0. 0. 0. 0.]\n",
      " [0. 0. 0. 0.]]\n"
     ]
    }
   ],
   "source": [
    "Z = np.zeros((2,4))\n",
    "\n",
    "print(Z)"
   ]
  },
  {
   "cell_type": "markdown",
   "metadata": {},
   "source": [
    "Podemos atribuir um valor a alguma entrada da matriz $Z$, por exemplo, fazendo $Z = (z_{ij})$, para definir $z_{23} = 5$ fazemos:"
   ]
  },
  {
   "cell_type": "code",
   "execution_count": 24,
   "metadata": {},
   "outputs": [
    {
     "name": "stdout",
     "output_type": "stream",
     "text": [
      "[[0. 0. 0. 0.]\n",
      " [0. 0. 5. 0.]]\n"
     ]
    }
   ],
   "source": [
    "Z[1,2] = 5\n",
    "\n",
    "print(Z)"
   ]
  },
  {
   "cell_type": "markdown",
   "metadata": {},
   "source": [
    "<b>Observação:</b> Note que os índices são acessados uma unidade abaixo dos índices na notação usual."
   ]
  },
  {
   "cell_type": "markdown",
   "metadata": {},
   "source": [
    "É possível definir uma linha inteira, por exemplo:"
   ]
  },
  {
   "cell_type": "code",
   "execution_count": 25,
   "metadata": {},
   "outputs": [
    {
     "name": "stdout",
     "output_type": "stream",
     "text": [
      "[[0. 0. 0. 0.]\n",
      " [7. 7. 7. 7.]]\n"
     ]
    }
   ],
   "source": [
    "Z[1,:] = [7,7,7,7]\n",
    "\n",
    "print(Z)"
   ]
  },
  {
   "cell_type": "markdown",
   "metadata": {},
   "source": [
    "Ou uma coluna inteira:"
   ]
  },
  {
   "cell_type": "code",
   "execution_count": 26,
   "metadata": {},
   "outputs": [
    {
     "name": "stdout",
     "output_type": "stream",
     "text": [
      "[[0. 0. 0. 8.]\n",
      " [7. 7. 7. 8.]]\n"
     ]
    }
   ],
   "source": [
    "Z[:,3] = [8,8]\n",
    "\n",
    "print(Z)"
   ]
  },
  {
   "cell_type": "markdown",
   "metadata": {},
   "source": [
    "Ou até mesmo blocos:"
   ]
  },
  {
   "cell_type": "code",
   "execution_count": 27,
   "metadata": {},
   "outputs": [
    {
     "name": "stdout",
     "output_type": "stream",
     "text": [
      "[[0. 9. 9. 8.]\n",
      " [7. 9. 9. 8.]]\n"
     ]
    }
   ],
   "source": [
    "Z[0:2,1:3] = [[9,9],[9,9]]\n",
    "\n",
    "print(Z)"
   ]
  },
  {
   "cell_type": "markdown",
   "metadata": {},
   "source": [
    "Para declarar um matriz identidade de ordem 5 fazemos:"
   ]
  },
  {
   "cell_type": "code",
   "execution_count": 28,
   "metadata": {},
   "outputs": [
    {
     "name": "stdout",
     "output_type": "stream",
     "text": [
      "[[1. 0. 0. 0. 0.]\n",
      " [0. 1. 0. 0. 0.]\n",
      " [0. 0. 1. 0. 0.]\n",
      " [0. 0. 0. 1. 0.]\n",
      " [0. 0. 0. 0. 1.]]\n"
     ]
    }
   ],
   "source": [
    "I = np.eye(5)\n",
    "\n",
    "print(I)"
   ]
  },
  {
   "cell_type": "markdown",
   "metadata": {},
   "source": [
    "Para determinar a inversa da matriz\n",
    "$$A = \\left(\\begin{array}{ccc}\n",
    "2 & 1 & 1  \\\\\n",
    "0 & 1 & -3 \\\\\n",
    "-1 & 2 & 1 \n",
    "\\end{array}\\right)$$\n",
    "fazemos:"
   ]
  },
  {
   "cell_type": "code",
   "execution_count": 30,
   "metadata": {},
   "outputs": [
    {
     "name": "stdout",
     "output_type": "stream",
     "text": [
      "[[ 0.38888889  0.05555556 -0.22222222]\n",
      " [ 0.16666667  0.16666667  0.33333333]\n",
      " [ 0.05555556 -0.27777778  0.11111111]]\n"
     ]
    }
   ],
   "source": [
    "A = np.array([\n",
    "    [2,1,1],\n",
    "    [0,1,-3],\n",
    "    [-1,2,1]\n",
    "])\n",
    "invA = np.linalg.inv(A)\n",
    "print(invA)"
   ]
  },
  {
   "cell_type": "markdown",
   "metadata": {},
   "source": [
    "## Representação matricial de sistemas lineares"
   ]
  },
  {
   "cell_type": "markdown",
   "metadata": {},
   "source": [
    "Fazendo $A = \\left(\\begin{array}{ccc} a_{11} & \\cdots & a_{1n}\\\\ \\vdots & & \\vdots \\\\ a_{m1} & \\cdots & a_{mn}  \\end{array}\\right)$, $X = \\left(\\begin{array}{c} x_1 \\\\ \\vdots \\\\ x_n \\end{array}\\right)$ e $Y = \\left(\\begin{array}{c} y_1 \\\\ \\vdots \\\\ y_m \\end{array}\\right)$, podemos denotar o sistema\n",
    "$$\\left\\{\\begin{array}{ccccccc}\n",
    "a_{11}X_1 & + & \\cdots & + & a_{1n}X_n & = & Y_1\\\\\n",
    "\\vdots     &     &          &     &      \\vdots &     & \\vdots  \\\\\n",
    "a_{m1}X_1 & + & \\cdots & + & a_{mn}X_n & = & Y_m\\\\\n",
    "\\end{array}\\right.$$\n",
    "de forma simplificada por $AX = Y.$"
   ]
  },
  {
   "cell_type": "markdown",
   "metadata": {},
   "source": [
    "## Exemplo teórico"
   ]
  },
  {
   "cell_type": "markdown",
   "metadata": {},
   "source": [
    "Faça a representação matricial do sistema linear a seguir:\n",
    "$$\\left\\{\\begin{array}{ccccc}\n",
    "3x & + & 5y & = & 29\\\\\n",
    "5x & + & 4y & = & 31\n",
    "\\end{array}\\right.$$"
   ]
  },
  {
   "cell_type": "markdown",
   "metadata": {},
   "source": [
    "<b>Resposta:</b>"
   ]
  },
  {
   "cell_type": "markdown",
   "metadata": {},
   "source": [
    "$$\\left(\\begin{array}{cc} 3 & 5 \\\\ 5 & 4 \\end{array}\\right)\\left(\\begin{array}{c} x \\\\ y \\end{array}\\right)=\\left(\\begin{array}{c} 29 \\\\ 31 \\end{array}\\right)$$"
   ]
  },
  {
   "cell_type": "markdown",
   "metadata": {},
   "source": [
    "<b>Observação:</b> Observe que o sistema acima é o mesmo do exemplo prático da aula anterior. Observe ainda que as matrizes foram usadas como parâmetros da função <i>solve</i> para resolver o sistema usando Python."
   ]
  },
  {
   "cell_type": "markdown",
   "metadata": {},
   "source": [
    "## Operações e matrizes elementares"
   ]
  },
  {
   "cell_type": "markdown",
   "metadata": {},
   "source": [
    "As <b>operações elementares</b> sobre as linhas da matriz $A$ dos coeficientes do sistema são definidas por:\n",
    "- Multiplicação de uma linha de $A$ por um escalar $\\alpha \\in {\\mathbb{R}}$ não nulo.\n",
    "- Troca da $r$-ésima linha de $A$ pela $r$-ésima linha mais $\\alpha$ vezes a $s$-ésima linha, com $\\alpha \\in {\\mathbb{R}}$ e $r \\neq s$.\n",
    "- Troca de posição de duas linhas de $A$ entre si."
   ]
  },
  {
   "cell_type": "markdown",
   "metadata": {},
   "source": [
    "As <b>matrizes elementares</b> são matrizes obtidas da matriz identidade através de uma única operação elementar."
   ]
  },
  {
   "cell_type": "markdown",
   "metadata": {},
   "source": [
    "<b>Observação:</b> Multiplicarmos à esquerda uma matriz $A \\in {\\cal{M}}_{m\\times n}$ por uma matriz elementar $E \\in {\\cal{M}}_{m\\times m}$ equivale à realizar a operação elementar que gerou $E$ em $A$."
   ]
  },
  {
   "cell_type": "markdown",
   "metadata": {},
   "source": [
    "### Exemplo teórico"
   ]
  },
  {
   "cell_type": "markdown",
   "metadata": {},
   "source": [
    "Considere a matriz\n",
    "$$A = \\left(\\begin{array}{cccc}\n",
    "3 & 5 & 2 & 1 \\\\\n",
    "0 & 6 & -1 & 0 \\\\\n",
    "1 & 0 & 2 & 1\n",
    "\\end{array}\\right).$$\n",
    "Encontre a matriz elementar $E$ tal que a matriz $C = EA$ é igual a matriz $A$ com as linhas 1 e 2 trocadas."
   ]
  },
  {
   "cell_type": "markdown",
   "metadata": {},
   "source": [
    "<b>Resposta</b>"
   ]
  },
  {
   "cell_type": "markdown",
   "metadata": {},
   "source": [
    "$$E = \\left(\\begin{array}{ccc}\n",
    "0 & 0 & 1  \\\\\n",
    "0 & 1 & 0 \\\\\n",
    "1 & 0 & 0 \n",
    "\\end{array}\\right).$$"
   ]
  },
  {
   "cell_type": "markdown",
   "metadata": {},
   "source": [
    "## Exemplo prático em Python"
   ]
  },
  {
   "cell_type": "markdown",
   "metadata": {},
   "source": [
    "Acontecerá um evento na Áustria e uma media social famosa te contratou para criar um filtro para que seus usuários coloquem a bandeira da Áustria sobre as fotos de seus perfis. Faça um programa em Python que receba o caminho de uma imagem e retorne a imagem mesclada com a bandeira da Áustria."
   ]
  },
  {
   "cell_type": "markdown",
   "metadata": {},
   "source": [
    "<b>Resposta</b>"
   ]
  },
  {
   "cell_type": "markdown",
   "metadata": {},
   "source": [
    "Utilizaremos a foto no arquivo <i>boy.jpg</i>. Primeiro temos que transformar a foto em matriz:"
   ]
  },
  {
   "cell_type": "code",
   "execution_count": 32,
   "metadata": {},
   "outputs": [],
   "source": [
    "from PIL import Image\n",
    "\n",
    "# lendo o arquivo\n",
    "M = Image.open('assets/boy.jpg')\n",
    "# convertendo em matriz\n",
    "M = np.asarray(M, dtype=np.float32)/255"
   ]
  },
  {
   "cell_type": "markdown",
   "metadata": {},
   "source": [
    "Podemos visualizar a foto para ver se tudo está ok:"
   ]
  },
  {
   "cell_type": "code",
   "execution_count": 35,
   "metadata": {},
   "outputs": [
    {
     "data": {
      "image/png": "[encoded data removed]",
      "text/plain": [
       "<Figure size 200x400 with 1 Axes>"
      ]
     },
     "metadata": {},
     "output_type": "display_data"
    }
   ],
   "source": [
    "import matplotlib.pyplot as plt\n",
    "plt.figure(figsize=(2,4))\n",
    "plt.imshow(M)\n",
    "plt.axis('off')\n",
    "plt.show()"
   ]
  },
  {
   "cell_type": "markdown",
   "metadata": {},
   "source": [
    "Para verificar a dimensão da matriz fazemos:"
   ]
  },
  {
   "cell_type": "code",
   "execution_count": 37,
   "metadata": {
    "colab": {
     "base_uri": "https://localhost:8080/"
    },
    "id": "hDBv1Hhp_VJP",
    "outputId": "d2cfbd03-86cd-4b53-cbdb-60a9d74d550b"
   },
   "outputs": [
    {
     "data": {
      "text/plain": [
       "(854, 854, 3)"
      ]
     },
     "execution_count": 37,
     "metadata": {},
     "output_type": "execute_result"
    }
   ],
   "source": [
    "M.shape"
   ]
  },
  {
   "cell_type": "markdown",
   "metadata": {},
   "source": [
    "Lembrando que M é uma matriz composta por 3 matriz que representam as camadas vermelha, verde e azul. Podemos separar as camadas:"
   ]
  },
  {
   "cell_type": "code",
   "execution_count": 38,
   "metadata": {},
   "outputs": [],
   "source": [
    "R = M[:,:,0]\n",
    "G = M[:,:,1]\n",
    "B = M[:,:,2]"
   ]
  },
  {
   "cell_type": "markdown",
   "metadata": {},
   "source": [
    "A bandeira da Áustria tem duas faixas horizontais vermelhas e uma branca. Para criar as faixas vermelhas, podemos diminuir o verde e o azul. No entanto, temos que diminuir exatamente onde estão essas faixas. Utilizaremos a ideia de matrizes elementares."
   ]
  },
  {
   "cell_type": "code",
   "execution_count": 41,
   "metadata": {},
   "outputs": [],
   "source": [
    "E = np.eye(854)\n",
    "\n",
    "for i in range(0,283):\n",
    "    E[i,i] = 0.3\n",
    "for i in range(583,854):\n",
    "    E[i,i] = 0.3\n",
    "\n",
    "G = np.matmul(E, G)\n",
    "B = np.matmul(E, B)"
   ]
  },
  {
   "cell_type": "markdown",
   "metadata": {},
   "source": [
    "Agora podemos sobrescrever a matriz M original:"
   ]
  },
  {
   "cell_type": "code",
   "execution_count": 44,
   "metadata": {},
   "outputs": [],
   "source": [
    "M[:,:,0] = R\n",
    "M[:,:,1] = G\n",
    "M[:,:,2] = B"
   ]
  },
  {
   "cell_type": "markdown",
   "metadata": {},
   "source": [
    "O resultado fica então:"
   ]
  },
  {
   "cell_type": "code",
   "execution_count": 45,
   "metadata": {},
   "outputs": [
    {
     "data": {
      "image/png": "[encoded data removed]",
      "text/plain": [
       "<Figure size 200x400 with 1 Axes>"
      ]
     },
     "metadata": {},
     "output_type": "display_data"
    }
   ],
   "source": [
    "import matplotlib.pyplot as plt\n",
    "plt.figure(figsize=(2,4))\n",
    "plt.imshow(M)\n",
    "plt.axis('off')\n",
    "plt.show()"
   ]
  },
  {
   "cell_type": "markdown",
   "metadata": {},
   "source": [
    "Divirta-se na Áustria menino!"
   ]
  },
  {
   "cell_type": "markdown",
   "metadata": {
    "id": "a3eFY4ztQbAa"
   },
   "source": [
    "## Exercícios"
   ]
  },
  {
   "cell_type": "markdown",
   "metadata": {},
   "source": [
    "<b>Exercício 1</b> Faça uma algoritmo para dar um efeito de cinema numa imagem. Veja o exemplo da transformação da imagem no arquivo <i>monk.jpg</i> transformada na imagem do arquivo <i>monk_cinema.jpg</i>."
   ]
  },
  {
   "cell_type": "markdown",
   "metadata": {},
   "source": [
    "<b>Exercício 2</b> Faça um algoritmo para dar um efeito de mosaico mesclando duas imagens. Veja o exemplo da transformação das imagens <i>boy.jpg</i> e <i>girl.jpg</i> na imagem <i>mosaic.jpg</i>."
   ]
  },
  {
   "cell_type": "code",
   "execution_count": null,
   "metadata": {},
   "outputs": [],
   "source": []
  }
 ],
 "metadata": {
  "colab": {
   "provenance": []
  },
  "kernelspec": {
   "display_name": "Python 3 (ipykernel)",
   "language": "python",
   "name": "python3"
  },
  "language_info": {
   "codemirror_mode": {
    "name": "ipython",
    "version": 3
   },
   "file_extension": ".py",
   "mimetype": "text/x-python",
   "name": "python",
   "nbconvert_exporter": "python",
   "pygments_lexer": "ipython3",
   "version": "3.11.4"
  }
 },
 "nbformat": 4,
 "nbformat_minor": 4
}
