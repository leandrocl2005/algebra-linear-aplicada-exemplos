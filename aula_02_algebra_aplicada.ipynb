{
 "cells": [
  {
   "cell_type": "markdown",
   "metadata": {},
   "source": [
    "# Aula 2: Sistemas e multiplicação de matrizes"
   ]
  },
  {
   "cell_type": "markdown",
   "metadata": {},
   "source": [
    "## Sistema, solução e tipos de sistemas"
   ]
  },
  {
   "cell_type": "markdown",
   "metadata": {},
   "source": [
    "Um <b>sistema linear</b> com $m$ linhas e $n$ colunas é uma expressão do tipo:\n",
    "$$\\left\\{\\begin{array}{ccccccc}\n",
    "a_{11}X_1 & + & \\cdots & + & a_{1n}X_n & = & Y_1\\\\\n",
    "\\vdots     &     &          &     &      \\vdots &     & \\vdots  \\\\\n",
    "a_{m1}X_1 & + & \\cdots & + & a_{mn}X_n & = & Y_m\\\\\n",
    "\\end{array}\\right.$$"
   ]
  },
  {
   "cell_type": "markdown",
   "metadata": {},
   "source": [
    "com $a_{ij}, Y_{i} \\in {\\mathbb{R}}$. "
   ]
  },
  {
   "cell_type": "markdown",
   "metadata": {},
   "source": [
    "Uma $n$-upla $\\mathbf{x} = (x_1,\\dots, x_n) \\in {\\mathbb{R}}^{n}$ é chamada de <b>solução</b> do sistema se valem simultaneamente as seguintes equações\n",
    "$$\\begin{array}{ccccccc}\n",
    "a_{11}x_1 & + & \\cdots & + & a_{1n}x_n & = & Y_1\\\\\n",
    "\\vdots     &     &          &     &      \\vdots &     & \\vdots  \\\\\n",
    "a_{m1}x_1 & + & \\cdots & + & a_{mn}x_n & = & Y_m\\\\\n",
    "\\end{array}$$"
   ]
  },
  {
   "cell_type": "markdown",
   "metadata": {},
   "source": [
    "Se $Y_1 = Y_2 = \\cdots = Y_m=0$, então dizemos que o sistema é <b>homogêneo</b>."
   ]
  },
  {
   "cell_type": "markdown",
   "metadata": {},
   "source": [
    "Se o sistema possuir uma única solução, dizemos que o sistema é <b>possível e determinado</b>."
   ]
  },
  {
   "cell_type": "markdown",
   "metadata": {},
   "source": [
    "Se o sistema possuir mais de uma solução, dizemos que o sistema é <b>possível e indeterminado</b>."
   ]
  },
  {
   "cell_type": "markdown",
   "metadata": {},
   "source": [
    "Se o sistema não possuir solução, dizemos que o sistema é <b>impossível</b>."
   ]
  },
  {
   "cell_type": "markdown",
   "metadata": {},
   "source": [
    "Diremos que dois sistemas lineares são <b>equivalentes</b> se cada equação de um sistema for combinação linear formal das equações do outro."
   ]
  },
  {
   "cell_type": "markdown",
   "metadata": {},
   "source": [
    "<b>Teorema</b> Sistemas lineares equivalentes possuem o mesmo conjunto de soluções."
   ]
  },
  {
   "cell_type": "markdown",
   "metadata": {},
   "source": [
    "<b>Observação:</b> Se sistemas equivalentes possuem o mesmo conjunto soluções é inteligente buscarmos o sistema equivalente mais simples de ser resolvido. Qual seria esse sistema? Nas próximas aulas buscaremos a resposta para essa pergunta."
   ]
  },
  {
   "cell_type": "markdown",
   "metadata": {},
   "source": [
    "## Exercício teórico"
   ]
  },
  {
   "cell_type": "markdown",
   "metadata": {},
   "source": [
    "Determine o conjunto $S$ formado por todas as soluções do sistema linear homogêneo dado por\n",
    "$$\\left\\{\\begin{array}{ccccc}\n",
    "x & - & y & = & 0\\\\\n",
    "2x & + & y & = & 0\n",
    "\\end{array}\\right.$$"
   ]
  },
  {
   "cell_type": "markdown",
   "metadata": {},
   "source": [
    "<b>Resposta:</b> $S = \\{ (0,0) \\}$"
   ]
  },
  {
   "cell_type": "markdown",
   "metadata": {},
   "source": [
    "## Exemplo prático"
   ]
  },
  {
   "cell_type": "markdown",
   "metadata": {},
   "source": [
    "Numa sorveteria Matias pagou R\\\\$ 29,00 por 3 bolas de sorvete de morango e 5 bolas de sorvete de chocolate. Já Fred pagou R\\\\$ 31,00 por 5 bolas de sorvete de morango e 4 bolas de sorvete de chocolate nesta mesma sorveteria. Quanto custou cada bola de sorvete de morando e cada bola de sorte de chocolate?"
   ]
  },
  {
   "cell_type": "markdown",
   "metadata": {},
   "source": [
    "<b>Resposta:</b>"
   ]
  },
  {
   "cell_type": "markdown",
   "metadata": {},
   "source": [
    "Sendo x o preço da bola de sorvete de morando e y o preço da bola de sorvete de chocolate temos que\n",
    "$$\\left\\{\\begin{array}{ccccc}\n",
    "3x & + & 5y & = & 29\\\\\n",
    "5x & + & 4y & = & 31\n",
    "\\end{array}\\right.$$\n",
    "E, portanto, $x=3$ e $y=4$."
   ]
  },
  {
   "cell_type": "markdown",
   "metadata": {},
   "source": [
    "## Sistemas lineares com Python"
   ]
  },
  {
   "cell_type": "markdown",
   "metadata": {},
   "source": [
    "Para resolver o sistema do exemplo prático acima utilizaremos a função <i>solve</i> da biblioteca scipy. Para isso devemos importá-la:"
   ]
  },
  {
   "cell_type": "code",
   "execution_count": 7,
   "metadata": {},
   "outputs": [],
   "source": [
    "from scipy.linalg import solve"
   ]
  },
  {
   "cell_type": "markdown",
   "metadata": {},
   "source": [
    "Nosso próximo passo é definir uma matriz quadrada $A = (a_{ij})$ com os coeficientes do sistema do exemplo anterior:"
   ]
  },
  {
   "cell_type": "code",
   "execution_count": 10,
   "metadata": {},
   "outputs": [],
   "source": [
    "import numpy as np\n",
    "\n",
    "A = np.array([\n",
    "    [3, 5],\n",
    "    [5, 4]\n",
    "])"
   ]
  },
  {
   "cell_type": "markdown",
   "metadata": {},
   "source": [
    "Precisaremos também de uma matriz com uma coluna $Y = (Y_1\\ Y_2)^T$ com os valores pagos por cada pessoa:"
   ]
  },
  {
   "cell_type": "code",
   "execution_count": 11,
   "metadata": {},
   "outputs": [],
   "source": [
    "Y = np.array([\n",
    "    [29],\n",
    "    [31]\n",
    "])"
   ]
  },
  {
   "cell_type": "markdown",
   "metadata": {},
   "source": [
    "Agora basta passar como parâmetros da função <i>solve</i> as matrizes $A$ e $Y$:"
   ]
  },
  {
   "cell_type": "code",
   "execution_count": 12,
   "metadata": {},
   "outputs": [
    {
     "data": {
      "text/plain": [
       "array([[3.],\n",
       "       [4.]])"
      ]
     },
     "execution_count": 12,
     "metadata": {},
     "output_type": "execute_result"
    }
   ],
   "source": [
    "solve(A, Y)"
   ]
  },
  {
   "cell_type": "markdown",
   "metadata": {},
   "source": [
    "<b>Dica:</b> Novamente, aqui temos um exemplo simples para entender conceitos poderosos. O primeiro é a representação matemática do problema no contexto de sistemas lineares. O segundo é o uso de uma ferramenta para resolver o problema."
   ]
  },
  {
   "cell_type": "markdown",
   "metadata": {},
   "source": [
    "## Multiplicação de matrizes"
   ]
  },
  {
   "cell_type": "markdown",
   "metadata": {},
   "source": [
    "Sejam $A = (a_{ij}) \\in {\\cal{M}}_{m\\times n}$ e $B = (b_{ij}) \\in {\\cal{M}}_{n\\times p}$. Definimos a <b>multiplicação (ou produto) \n",
    "de $A$ com $B$</b>, denotado por $A\\ast B$, ou por $AB$, como sendo a matriz $C=(c_{ij})\\in {\\cal{M}}_{m\\times p}$, definida por\n",
    "$$C = (c_{ij}) = \\left( \\sum^{n}_{k=1}a_{ik}b_{kj} \\right).$$"
   ]
  },
  {
   "cell_type": "markdown",
   "metadata": {},
   "source": [
    "## Exemplo teórico"
   ]
  },
  {
   "cell_type": "markdown",
   "metadata": {},
   "source": [
    "Sejam \n",
    "$$A = \\left( \\begin{array}{ccc} 2 & 1 & 0 \\\\ -1 & 3 & 2 \\end{array} \\right)\\ \\ \\text{e} \\ \\ B = \\left( \\begin{array}{cc} 1 & 2 \\\\ 2 & 1 \\\\ 0 & 0 \\end{array}\\right)$$\n",
    "matrizes reais. Determine $C = AB$."
   ]
  },
  {
   "cell_type": "markdown",
   "metadata": {},
   "source": [
    "<b>Resposta:</b>\n",
    "$$ C = AB = \\left( \\begin{array}{cc} 4 & 5 \\\\ 5 & 1 \\end{array} \\right).$$"
   ]
  },
  {
   "cell_type": "markdown",
   "metadata": {},
   "source": [
    "## Multiplicação de matrizes com Python"
   ]
  },
  {
   "cell_type": "markdown",
   "metadata": {},
   "source": [
    "Para multiplicar duas matrizes em Python podemos utilizar a função <i>matmul</i> da biblioteca numpy:"
   ]
  },
  {
   "cell_type": "code",
   "execution_count": 14,
   "metadata": {},
   "outputs": [
    {
     "name": "stdout",
     "output_type": "stream",
     "text": [
      "[[4 5]\n",
      " [5 1]]\n"
     ]
    }
   ],
   "source": [
    "# definindo A\n",
    "A = np.array([\n",
    "    [2,1,0],\n",
    "    [-1,3,2]\n",
    "])\n",
    "# definindo B\n",
    "B = np.array([\n",
    "    [1,2],\n",
    "    [2,1],\n",
    "    [0,0]\n",
    "])\n",
    "# calculando C = AB\n",
    "C = np.matmul(A,B)\n",
    "# mostrando a matriz C\n",
    "print(C)"
   ]
  },
  {
   "cell_type": "markdown",
   "metadata": {},
   "source": [
    "## Exemplo prático de multiplicação de matrizes"
   ]
  },
  {
   "cell_type": "markdown",
   "metadata": {},
   "source": [
    "Vamos considerar ainda a sorveteria do exemplo prático anterior. Sabendo que além do Matias e do Fred, também compraram bolas de sorvete de morango e de chocolate Bia, Bob, Ted, Ana, João, Elias e Raquel. Veja a tabela a seguir:"
   ]
  },
  {
   "cell_type": "markdown",
   "metadata": {},
   "source": [
    "<center><img src=\"assets/sorvetes.png\" alt=\"sorvetes\" width=\"200px\"></center>"
   ]
  },
  {
   "cell_type": "markdown",
   "metadata": {
    "id": "snnh5MupGrY_"
   },
   "source": [
    "Quanto a sorveteria obteve com as venda desses sorvetes?"
   ]
  },
  {
   "cell_type": "markdown",
   "metadata": {},
   "source": [
    "<b>Resposta</b>"
   ]
  },
  {
   "cell_type": "markdown",
   "metadata": {},
   "source": [
    "Podemos fazer na mão essas contas, mas pense numa empresa grande com muitos clientes e muitos produtos, isso não seria viável. Vamos representar a planilha acima através de uma matriz:"
   ]
  },
  {
   "cell_type": "code",
   "execution_count": 16,
   "metadata": {},
   "outputs": [],
   "source": [
    "A = np.array([\n",
    "    [3,5],\n",
    "    [5,4],\n",
    "    [2,4],\n",
    "    [5,3],\n",
    "    [3,2],\n",
    "    [5,1],\n",
    "    [1,2],\n",
    "    [4,5],\n",
    "    [2,7]\n",
    "])"
   ]
  },
  {
   "cell_type": "markdown",
   "metadata": {},
   "source": [
    "Agora vamos colocar o preço de cada bola numa matriz com uma coluna:"
   ]
  },
  {
   "cell_type": "code",
   "execution_count": 18,
   "metadata": {},
   "outputs": [],
   "source": [
    "B = np.array([\n",
    "    [3],\n",
    "    [4]\n",
    "])"
   ]
  },
  {
   "cell_type": "markdown",
   "metadata": {},
   "source": [
    "Observe que cada linha da matriz $C = AB$ representa quanto cada pessoa gastou. Pare um tempo para entender essa observação."
   ]
  },
  {
   "cell_type": "code",
   "execution_count": 20,
   "metadata": {},
   "outputs": [
    {
     "name": "stdout",
     "output_type": "stream",
     "text": [
      "[[29]\n",
      " [31]\n",
      " [22]\n",
      " [27]\n",
      " [17]\n",
      " [19]\n",
      " [11]\n",
      " [32]\n",
      " [34]]\n"
     ]
    }
   ],
   "source": [
    "C = np.matmul(A, B)\n",
    "print(C)"
   ]
  },
  {
   "cell_type": "markdown",
   "metadata": {},
   "source": [
    "Vamos então somar tudo:"
   ]
  },
  {
   "cell_type": "code",
   "execution_count": 21,
   "metadata": {},
   "outputs": [
    {
     "data": {
      "text/plain": [
       "array([222])"
      ]
     },
     "execution_count": 21,
     "metadata": {},
     "output_type": "execute_result"
    }
   ],
   "source": [
    "sum(C)"
   ]
  },
  {
   "cell_type": "markdown",
   "metadata": {},
   "source": [
    "Logo, a sorveteria obteve 222 reais com essa venda!"
   ]
  },
  {
   "cell_type": "markdown",
   "metadata": {},
   "source": [
    "## Exemplo prático de multiplicação de matrizes"
   ]
  },
  {
   "cell_type": "markdown",
   "metadata": {},
   "source": [
    "Na pasta datasets tem uma planilha do tipo .csv com a mesma matriz do exemplo anterior. Gostariamos de extrair os dados diretamente desta planilha para evitar digitar na mão todas as vendas."
   ]
  },
  {
   "cell_type": "markdown",
   "metadata": {},
   "source": [
    "Para isso utilizaremos a função <i>read_csv</i> da biblioteca pandas."
   ]
  },
  {
   "cell_type": "code",
   "execution_count": 28,
   "metadata": {},
   "outputs": [],
   "source": [
    "import pandas as pd\n",
    "\n",
    "planilha = pd.read_csv('datasets/sorvetes.csv', sep=\";\", index_col=0)"
   ]
  },
  {
   "cell_type": "markdown",
   "metadata": {},
   "source": [
    "Vejamos como fica a variável planilha:"
   ]
  },
  {
   "cell_type": "code",
   "execution_count": 29,
   "metadata": {},
   "outputs": [
    {
     "data": {
      "text/html": [
       "<div>\n",
       "<style scoped>\n",
       "    .dataframe tbody tr th:only-of-type {\n",
       "        vertical-align: middle;\n",
       "    }\n",
       "\n",
       "    .dataframe tbody tr th {\n",
       "        vertical-align: top;\n",
       "    }\n",
       "\n",
       "    .dataframe thead th {\n",
       "        text-align: right;\n",
       "    }\n",
       "</style>\n",
       "<table border=\"1\" class=\"dataframe\">\n",
       "  <thead>\n",
       "    <tr style=\"text-align: right;\">\n",
       "      <th></th>\n",
       "      <th>Morango</th>\n",
       "      <th>Chocolate</th>\n",
       "    </tr>\n",
       "  </thead>\n",
       "  <tbody>\n",
       "    <tr>\n",
       "      <th>Matias</th>\n",
       "      <td>3</td>\n",
       "      <td>5</td>\n",
       "    </tr>\n",
       "    <tr>\n",
       "      <th>Fred</th>\n",
       "      <td>5</td>\n",
       "      <td>4</td>\n",
       "    </tr>\n",
       "    <tr>\n",
       "      <th>Bia</th>\n",
       "      <td>2</td>\n",
       "      <td>4</td>\n",
       "    </tr>\n",
       "    <tr>\n",
       "      <th>Bob</th>\n",
       "      <td>5</td>\n",
       "      <td>3</td>\n",
       "    </tr>\n",
       "    <tr>\n",
       "      <th>Ted</th>\n",
       "      <td>3</td>\n",
       "      <td>2</td>\n",
       "    </tr>\n",
       "    <tr>\n",
       "      <th>Ana</th>\n",
       "      <td>5</td>\n",
       "      <td>1</td>\n",
       "    </tr>\n",
       "    <tr>\n",
       "      <th>João</th>\n",
       "      <td>1</td>\n",
       "      <td>2</td>\n",
       "    </tr>\n",
       "    <tr>\n",
       "      <th>Elias</th>\n",
       "      <td>4</td>\n",
       "      <td>5</td>\n",
       "    </tr>\n",
       "    <tr>\n",
       "      <th>Raquel</th>\n",
       "      <td>2</td>\n",
       "      <td>7</td>\n",
       "    </tr>\n",
       "  </tbody>\n",
       "</table>\n",
       "</div>"
      ],
      "text/plain": [
       "        Morango  Chocolate\n",
       "Matias        3          5\n",
       "Fred          5          4\n",
       "Bia           2          4\n",
       "Bob           5          3\n",
       "Ted           3          2\n",
       "Ana           5          1\n",
       "João          1          2\n",
       "Elias         4          5\n",
       "Raquel        2          7"
      ]
     },
     "execution_count": 29,
     "metadata": {},
     "output_type": "execute_result"
    }
   ],
   "source": [
    "planilha"
   ]
  },
  {
   "cell_type": "markdown",
   "metadata": {},
   "source": [
    "Para colocar os valores da planilha numa matriz como fizemos no exemplo anterior:"
   ]
  },
  {
   "cell_type": "code",
   "execution_count": 34,
   "metadata": {},
   "outputs": [
    {
     "data": {
      "text/plain": [
       "array([[3, 5],\n",
       "       [5, 4],\n",
       "       [2, 4],\n",
       "       [5, 3],\n",
       "       [3, 2],\n",
       "       [5, 1],\n",
       "       [1, 2],\n",
       "       [4, 5],\n",
       "       [2, 7]], dtype=int64)"
      ]
     },
     "execution_count": 34,
     "metadata": {},
     "output_type": "execute_result"
    }
   ],
   "source": [
    "A = planilha.values\n",
    "A"
   ]
  },
  {
   "cell_type": "markdown",
   "metadata": {},
   "source": [
    "Podemos então prosseguir como no exemplo anterior:"
   ]
  },
  {
   "cell_type": "code",
   "execution_count": 35,
   "metadata": {},
   "outputs": [
    {
     "data": {
      "text/plain": [
       "array([222], dtype=int64)"
      ]
     },
     "execution_count": 35,
     "metadata": {},
     "output_type": "execute_result"
    }
   ],
   "source": [
    "B = np.array([\n",
    "    [3],\n",
    "    [4]\n",
    "])\n",
    "C = np.matmul(A, B)\n",
    "sum(C)"
   ]
  },
  {
   "cell_type": "markdown",
   "metadata": {},
   "source": [
    "## Exercícios"
   ]
  },
  {
   "cell_type": "markdown",
   "metadata": {},
   "source": [
    "<b>Exercício 1</b> Numa sorveteria Matias pagou R\\\\$ 44,00 por 3 bolas de sorvete de morango, 5 bolas de sorvete de chocolate e 2 bolas de sorvete de pistache. Já Fred pagou R\\\\$ 28,00 por 1 bola de sorvete de morango, 3 bolas de sorvete de chocolate e 2 bolas de sorvete de pistache. Por fim, Ana pagou R\\\\$ 31,00 por 2 bolas de sorvete de morango, 4 bolas de sorvete de chocolate e 1 bola de sorvete de pistache nesta mesma sorveteria. Quanto custou cada bola de sorvete de morango, cada bola de sorte de chocolate e cada bola de sorvete de pistache?"
   ]
  },
  {
   "cell_type": "markdown",
   "metadata": {},
   "source": [
    "<b>Exercício 2</b> Considerando a mesma sorveteria do Exercício 1 e o arquivo <i>sorvetes_exercicio.csv</i> dentro da pasta datasets que representa as vendas de um único dia nesta sorveteria, calcule quanto a sorveteria obteve com as vendas."
   ]
  },
  {
   "cell_type": "code",
   "execution_count": null,
   "metadata": {},
   "outputs": [],
   "source": []
  }
 ],
 "metadata": {
  "colab": {
   "provenance": []
  },
  "kernelspec": {
   "display_name": "Python 3 (ipykernel)",
   "language": "python",
   "name": "python3"
  },
  "language_info": {
   "codemirror_mode": {
    "name": "ipython",
    "version": 3
   },
   "file_extension": ".py",
   "mimetype": "text/x-python",
   "name": "python",
   "nbconvert_exporter": "python",
   "pygments_lexer": "ipython3",
   "version": "3.11.4"
  }
 },
 "nbformat": 4,
 "nbformat_minor": 4
}
