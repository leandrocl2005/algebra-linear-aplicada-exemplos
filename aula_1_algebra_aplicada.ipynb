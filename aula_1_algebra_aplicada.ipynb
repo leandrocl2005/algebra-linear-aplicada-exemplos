{
  "nbformat": 4,
  "nbformat_minor": 0,
  "metadata": {
    "colab": {
      "provenance": []
    },
    "kernelspec": {
      "name": "python3",
      "display_name": "Python 3"
    },
    "language_info": {
      "name": "python"
    }
  },
  "cells": [
    {
      "cell_type": "code",
      "execution_count": 1,
      "metadata": {
        "colab": {
          "base_uri": "https://localhost:8080/"
        },
        "id": "Pqob9DnRVebU",
        "outputId": "45ea4158-f060-433c-ca2a-fd01d8c7e971"
      },
      "outputs": [
        {
          "output_type": "execute_result",
          "data": {
            "text/plain": [
              "288.0"
            ]
          },
          "metadata": {},
          "execution_count": 1
        }
      ],
      "source": [
        "48 / 2 * (9 + 3)"
      ]
    },
    {
      "cell_type": "code",
      "source": [
        "import numpy as np\n",
        "A = np.array([ [2, -1, 0], [-2, 3, 1 ]])"
      ],
      "metadata": {
        "id": "sIe42hu2cmvb"
      },
      "execution_count": 2,
      "outputs": []
    },
    {
      "cell_type": "code",
      "source": [
        "B = np.array([[2, 2], [-1, 1], [-3, 3]])"
      ],
      "metadata": {
        "id": "s8z6BKo0cric"
      },
      "execution_count": 3,
      "outputs": []
    },
    {
      "cell_type": "code",
      "source": [
        "A + B.T"
      ],
      "metadata": {
        "colab": {
          "base_uri": "https://localhost:8080/"
        },
        "id": "iG_JlROHdjzv",
        "outputId": "fc11cb0e-a656-4b99-8588-9a3308e87e49"
      },
      "execution_count": 4,
      "outputs": [
        {
          "output_type": "execute_result",
          "data": {
            "text/plain": [
              "array([[ 4, -2, -3],\n",
              "       [ 0,  4,  4]])"
            ]
          },
          "metadata": {},
          "execution_count": 4
        }
      ]
    },
    {
      "cell_type": "code",
      "source": [
        "R = np.array([[0, 1, 1]]) # camada vermelha\n",
        "G = np.array([[0, 1, 0]]) # camada verde\n",
        "B = np.array([[0, 0, 0]]) # camada azul"
      ],
      "metadata": {
        "id": "i4MNLpj5n_SM"
      },
      "execution_count": 5,
      "outputs": []
    },
    {
      "cell_type": "code",
      "source": [
        "# matriz resultante nula\n",
        "M = np.zeros((1,3,3), dtype=np.float32)\n",
        "# trocando as camadas da resultante\n",
        "M[:,:,0] = R; M[:,:,1] = G; M[:,:,2] = B"
      ],
      "metadata": {
        "id": "ZnbzuXiCoCU5"
      },
      "execution_count": 6,
      "outputs": []
    },
    {
      "cell_type": "code",
      "source": [
        "# mostrando a imagem\n",
        "import matplotlib.pyplot as plt\n",
        "plt.imshow(M, aspect='auto')\n",
        "plt.axis('off')\n",
        "plt.show()"
      ],
      "metadata": {
        "colab": {
          "base_uri": "https://localhost:8080/",
          "height": 248
        },
        "id": "cv-oan-SdllQ",
        "outputId": "a8d614d1-e0fe-47c6-f061-10dd60d50114"
      },
      "execution_count": 7,
      "outputs": [
        {
          "output_type": "display_data",
          "data": {
            "text/plain": [
              "<Figure size 432x288 with 1 Axes>"
            ],
            "image/png": "[encoded data removed]"
          },
          "metadata": {
            "needs_background": "light"
          }
        }
      ]
    },
    {
      "cell_type": "code",
      "source": [],
      "metadata": {
        "id": "s87et85-iOJj"
      },
      "execution_count": null,
      "outputs": []
    }
  ]
}
