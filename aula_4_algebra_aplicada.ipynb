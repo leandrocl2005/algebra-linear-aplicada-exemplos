{
  "nbformat": 4,
  "nbformat_minor": 0,
  "metadata": {
    "colab": {
      "provenance": []
    },
    "kernelspec": {
      "name": "python3",
      "display_name": "Python 3"
    },
    "language_info": {
      "name": "python"
    }
  },
  "cells": [
    {
      "cell_type": "code",
      "execution_count": 5,
      "metadata": {
        "colab": {
          "base_uri": "https://localhost:8080/"
        },
        "id": "N1N8BmD4IuoX",
        "outputId": "b64418e9-1c2c-45b3-8a36-c3802fe627a8"
      },
      "outputs": [
        {
          "output_type": "execute_result",
          "data": {
            "text/plain": [
              "([x, y], {(25/2, 25/4)})"
            ]
          },
          "metadata": {},
          "execution_count": 5
        }
      ],
      "source": [
        "from sympy.abc import x, y\n",
        "from sympy import solve\n",
        "solve([x - 2*y, 2*x +12*y - 100],set=True)"
      ]
    },
    {
      "cell_type": "code",
      "source": [
        "import numpy as np\n",
        "from numpy.linalg import inv\n",
        "A = np.array([[1, -2], [2, 12]])\n",
        "Y = np.array([[0],[100]])\n",
        "np.matmul(inv(A), Y)"
      ],
      "metadata": {
        "colab": {
          "base_uri": "https://localhost:8080/"
        },
        "id": "UXw5W_UoI7OE",
        "outputId": "effee9c5-30ce-4b17-ae0d-57165679583c"
      },
      "execution_count": 7,
      "outputs": [
        {
          "output_type": "execute_result",
          "data": {
            "text/plain": [
              "array([[12.5 ],\n",
              "       [ 6.25]])"
            ]
          },
          "metadata": {},
          "execution_count": 7
        }
      ]
    },
    {
      "cell_type": "code",
      "source": [
        "import numpy as np\n",
        "from numpy.linalg import det\n",
        "A = np.array([[1, -2], [2, 12]])\n",
        "Y = np.array([[0],[100]])\n",
        "A1 = np.array([[0, 100], [2, 12]])\n",
        "A2 = np.array([[1, -2], [0, 100]])\n",
        "x = det(A1)/det(A)\n",
        "y = det(A2)/det(A)\n",
        "print(x, y)"
      ],
      "metadata": {
        "colab": {
          "base_uri": "https://localhost:8080/"
        },
        "id": "APMvB2aaNjU8",
        "outputId": "eb31a17d-0253-4e78-8661-de98d2105fe1"
      },
      "execution_count": 16,
      "outputs": [
        {
          "output_type": "stream",
          "name": "stdout",
          "text": [
            "-12.500000000000009 6.2500000000000036\n"
          ]
        }
      ]
    },
    {
      "cell_type": "code",
      "source": [
        "from sympy.abc import x, y\n",
        "from sympy import solve\n",
        "solve([x - 2*y, x - 2*y],set=True)"
      ],
      "metadata": {
        "colab": {
          "base_uri": "https://localhost:8080/"
        },
        "id": "kNOJfAXJPI7t",
        "outputId": "c730b9b9-3cef-4421-b6f4-9f04e391e3d7"
      },
      "execution_count": 17,
      "outputs": [
        {
          "output_type": "execute_result",
          "data": {
            "text/plain": [
              "([x], {(2*y,)})"
            ]
          },
          "metadata": {},
          "execution_count": 17
        }
      ]
    },
    {
      "cell_type": "code",
      "source": [
        "preco_batata = input(\"Preço da batata:\")\n",
        "preco_carne = input(\"Preço da carne:\")\n",
        "valor_compra = input(\"Valor para compra:\")"
      ],
      "metadata": {
        "colab": {
          "base_uri": "https://localhost:8080/"
        },
        "id": "m_UAKkr0PVz0",
        "outputId": "db8b905d-6bb7-4905-cc33-6a0d4d15da25"
      },
      "execution_count": 19,
      "outputs": [
        {
          "name": "stdout",
          "output_type": "stream",
          "text": [
            "Preço da batata:2\n",
            "Preço da carne:12\n",
            "Valor para compra:100\n"
          ]
        }
      ]
    },
    {
      "cell_type": "code",
      "source": [
        "preco_batata = float(preco_batata)\n",
        "preco_carne = float(preco_carne)\n",
        "valor_compra = float(valor_compra)"
      ],
      "metadata": {
        "id": "FAQspEyuSjSc"
      },
      "execution_count": 20,
      "outputs": []
    },
    {
      "cell_type": "code",
      "source": [
        "import numpy as np\n",
        "from numpy.linalg import inv, det\n",
        "A = np.array([\n",
        "\t[1, -2], [preco_batata, preco_carne]\n",
        "])\n",
        "Y = np.array([[0],[valor_compra]])\n",
        "if det(A) != 0:\n",
        "  x, y = np.matmul(inv(A), Y)\n",
        "  print(\"Você deve comprar:\")\n",
        "  print(x[0], \"quilos de batata\")\n",
        "  print(y[0], \"quilos de carne\")\n",
        "else:\n",
        "  print(\"Não há única solução!\")"
      ],
      "metadata": {
        "colab": {
          "base_uri": "https://localhost:8080/"
        },
        "id": "LWWJtsFHTQcd",
        "outputId": "8b6f2951-abf7-4cc9-e65b-7a4adb43a1ab"
      },
      "execution_count": 26,
      "outputs": [
        {
          "output_type": "stream",
          "name": "stdout",
          "text": [
            "Você deve comprar:\n",
            "12.5 quilos de batata\n",
            "6.25 quilos de carne\n"
          ]
        }
      ]
    },
    {
      "cell_type": "code",
      "source": [],
      "metadata": {
        "id": "xvk86KpWT32N"
      },
      "execution_count": null,
      "outputs": []
    }
  ]
}