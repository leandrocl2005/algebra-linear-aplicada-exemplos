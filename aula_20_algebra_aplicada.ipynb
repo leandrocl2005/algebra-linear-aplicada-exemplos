{
  "nbformat": 4,
  "nbformat_minor": 0,
  "metadata": {
    "colab": {
      "provenance": []
    },
    "kernelspec": {
      "name": "python3",
      "display_name": "Python 3"
    },
    "language_info": {
      "name": "python"
    }
  },
  "cells": [
    {
      "cell_type": "markdown",
      "source": [
        "**Problema 1:** Considere o conjunto $${\\cal{Df}} = \\{ ((1,1),0), ((1,2),0), ((3,0),1), ((3,1),1)\\}.$$ Determine $\\phi(3,4)$ onde $\\phi$ é o classificador obtido pelo método do vizinho mais próximo considerando a distância de Manhattan."
      ],
      "metadata": {
        "id": "4lbnPB2pc6ip"
      }
    },
    {
      "cell_type": "code",
      "execution_count": 54,
      "metadata": {
        "id": "rtQ_zo2Y6rfe"
      },
      "outputs": [],
      "source": [
        "# Definindo Df\n",
        "import pandas as pd\n",
        "\n",
        "df = pd.DataFrame({\n",
        "    'x1': [1,1,3,3],\n",
        "    'x2': [1,2,0,1],\n",
        "    'c': [0,0,1,1]\n",
        "})"
      ]
    },
    {
      "cell_type": "code",
      "source": [
        "from sklearn.neighbors import (\n",
        "\tKNeighborsClassifier\n",
        ")\n",
        "\n",
        "k = 1\n",
        "phi = KNeighborsClassifier(\n",
        "    k, # número de vizinhos \n",
        "    metric='minkowski', \n",
        "    metric_params={'p': 1}\n",
        ")"
      ],
      "metadata": {
        "id": "bD_x-BEx67OK"
      },
      "execution_count": 55,
      "outputs": []
    },
    {
      "cell_type": "code",
      "source": [
        "X = df.drop('c',axis=1)\n",
        "y = df['c']"
      ],
      "metadata": {
        "id": "kYzV5GgeM04e"
      },
      "execution_count": 56,
      "outputs": []
    },
    {
      "cell_type": "code",
      "source": [
        "phi.fit(X, y)"
      ],
      "metadata": {
        "colab": {
          "base_uri": "https://localhost:8080/",
          "height": 129
        },
        "id": "NoHTCDNxNLMl",
        "outputId": "6af0f3e4-17a5-47bc-fe43-3914537f6511"
      },
      "execution_count": 57,
      "outputs": [
        {
          "output_type": "stream",
          "name": "stderr",
          "text": [
            "/usr/local/lib/python3.9/dist-packages/sklearn/neighbors/_classification.py:215: SyntaxWarning: Parameter p is found in metric_params. The corresponding parameter from __init__ is ignored.\n",
            "  return self._fit(X, y)\n"
          ]
        },
        {
          "output_type": "execute_result",
          "data": {
            "text/plain": [
              "KNeighborsClassifier(metric_params={'p': 1}, n_neighbors=1)"
            ],
            "text/html": [
              "<style>#sk-container-id-3 {color: black;background-color: white;}#sk-container-id-3 pre{padding: 0;}#sk-container-id-3 div.sk-toggleable {background-color: white;}#sk-container-id-3 label.sk-toggleable__label {cursor: pointer;display: block;width: 100%;margin-bottom: 0;padding: 0.3em;box-sizing: border-box;text-align: center;}#sk-container-id-3 label.sk-toggleable__label-arrow:before {content: \"▸\";float: left;margin-right: 0.25em;color: #696969;}#sk-container-id-3 label.sk-toggleable__label-arrow:hover:before {color: black;}#sk-container-id-3 div.sk-estimator:hover label.sk-toggleable__label-arrow:before {color: black;}#sk-container-id-3 div.sk-toggleable__content {max-height: 0;max-width: 0;overflow: hidden;text-align: left;background-color: #f0f8ff;}#sk-container-id-3 div.sk-toggleable__content pre {margin: 0.2em;color: black;border-radius: 0.25em;background-color: #f0f8ff;}#sk-container-id-3 input.sk-toggleable__control:checked~div.sk-toggleable__content {max-height: 200px;max-width: 100%;overflow: auto;}#sk-container-id-3 input.sk-toggleable__control:checked~label.sk-toggleable__label-arrow:before {content: \"▾\";}#sk-container-id-3 div.sk-estimator input.sk-toggleable__control:checked~label.sk-toggleable__label {background-color: #d4ebff;}#sk-container-id-3 div.sk-label input.sk-toggleable__control:checked~label.sk-toggleable__label {background-color: #d4ebff;}#sk-container-id-3 input.sk-hidden--visually {border: 0;clip: rect(1px 1px 1px 1px);clip: rect(1px, 1px, 1px, 1px);height: 1px;margin: -1px;overflow: hidden;padding: 0;position: absolute;width: 1px;}#sk-container-id-3 div.sk-estimator {font-family: monospace;background-color: #f0f8ff;border: 1px dotted black;border-radius: 0.25em;box-sizing: border-box;margin-bottom: 0.5em;}#sk-container-id-3 div.sk-estimator:hover {background-color: #d4ebff;}#sk-container-id-3 div.sk-parallel-item::after {content: \"\";width: 100%;border-bottom: 1px solid gray;flex-grow: 1;}#sk-container-id-3 div.sk-label:hover label.sk-toggleable__label {background-color: #d4ebff;}#sk-container-id-3 div.sk-serial::before {content: \"\";position: absolute;border-left: 1px solid gray;box-sizing: border-box;top: 0;bottom: 0;left: 50%;z-index: 0;}#sk-container-id-3 div.sk-serial {display: flex;flex-direction: column;align-items: center;background-color: white;padding-right: 0.2em;padding-left: 0.2em;position: relative;}#sk-container-id-3 div.sk-item {position: relative;z-index: 1;}#sk-container-id-3 div.sk-parallel {display: flex;align-items: stretch;justify-content: center;background-color: white;position: relative;}#sk-container-id-3 div.sk-item::before, #sk-container-id-3 div.sk-parallel-item::before {content: \"\";position: absolute;border-left: 1px solid gray;box-sizing: border-box;top: 0;bottom: 0;left: 50%;z-index: -1;}#sk-container-id-3 div.sk-parallel-item {display: flex;flex-direction: column;z-index: 1;position: relative;background-color: white;}#sk-container-id-3 div.sk-parallel-item:first-child::after {align-self: flex-end;width: 50%;}#sk-container-id-3 div.sk-parallel-item:last-child::after {align-self: flex-start;width: 50%;}#sk-container-id-3 div.sk-parallel-item:only-child::after {width: 0;}#sk-container-id-3 div.sk-dashed-wrapped {border: 1px dashed gray;margin: 0 0.4em 0.5em 0.4em;box-sizing: border-box;padding-bottom: 0.4em;background-color: white;}#sk-container-id-3 div.sk-label label {font-family: monospace;font-weight: bold;display: inline-block;line-height: 1.2em;}#sk-container-id-3 div.sk-label-container {text-align: center;}#sk-container-id-3 div.sk-container {/* jupyter's `normalize.less` sets `[hidden] { display: none; }` but bootstrap.min.css set `[hidden] { display: none !important; }` so we also need the `!important` here to be able to override the default hidden behavior on the sphinx rendered scikit-learn.org. See: https://github.com/scikit-learn/scikit-learn/issues/21755 */display: inline-block !important;position: relative;}#sk-container-id-3 div.sk-text-repr-fallback {display: none;}</style><div id=\"sk-container-id-3\" class=\"sk-top-container\"><div class=\"sk-text-repr-fallback\"><pre>KNeighborsClassifier(metric_params={&#x27;p&#x27;: 1}, n_neighbors=1)</pre><b>In a Jupyter environment, please rerun this cell to show the HTML representation or trust the notebook. <br />On GitHub, the HTML representation is unable to render, please try loading this page with nbviewer.org.</b></div><div class=\"sk-container\" hidden><div class=\"sk-item\"><div class=\"sk-estimator sk-toggleable\"><input class=\"sk-toggleable__control sk-hidden--visually\" id=\"sk-estimator-id-3\" type=\"checkbox\" checked><label for=\"sk-estimator-id-3\" class=\"sk-toggleable__label sk-toggleable__label-arrow\">KNeighborsClassifier</label><div class=\"sk-toggleable__content\"><pre>KNeighborsClassifier(metric_params={&#x27;p&#x27;: 1}, n_neighbors=1)</pre></div></div></div></div></div>"
            ]
          },
          "metadata": {},
          "execution_count": 57
        }
      ]
    },
    {
      "cell_type": "code",
      "source": [
        "phi.predict([[3,4]])"
      ],
      "metadata": {
        "colab": {
          "base_uri": "https://localhost:8080/"
        },
        "id": "73eS5maDNMql",
        "outputId": "714ffae9-a88c-4d02-ca1d-1618766cf685"
      },
      "execution_count": 58,
      "outputs": [
        {
          "output_type": "stream",
          "name": "stderr",
          "text": [
            "/usr/local/lib/python3.9/dist-packages/sklearn/base.py:439: UserWarning: X does not have valid feature names, but KNeighborsClassifier was fitted with feature names\n",
            "  warnings.warn(\n"
          ]
        },
        {
          "output_type": "execute_result",
          "data": {
            "text/plain": [
              "array([1])"
            ]
          },
          "metadata": {},
          "execution_count": 58
        }
      ]
    },
    {
      "cell_type": "code",
      "source": [
        "import matplotlib.pyplot as plt\n",
        "from sklearn.inspection import (\n",
        "    DecisionBoundaryDisplay)\n",
        "from matplotlib.colors import ListedColormap\n",
        "\n",
        "cmap_light = ListedColormap([\"orange\", \"cyan\", \"cornflowerblue\"])\n",
        "cmap_bold = [\"darkorange\", \"c\", \"darkblue\"]\n",
        "\n",
        "_, ax = plt.subplots()\n",
        "DecisionBoundaryDisplay.from_estimator(\n",
        "    phi,\n",
        "    X,\n",
        "    cmap=cmap_light,\n",
        "    ax=ax,\n",
        "    eps=3,\n",
        "    response_method=\"predict\",\n",
        "    plot_method=\"pcolormesh\",\n",
        "    xlabel='x1',\n",
        "    ylabel='x2',\n",
        "    shading=\"auto\",\n",
        "    alpha=0.6\n",
        ")\n",
        "plt.xticks([0,1,2,3,4], [0,1,2,3,4])\n",
        "plt.yticks([-1,0,1,2,3,4,5], [-1,0,1,2,3,4,5])\n",
        "plt.scatter(\n",
        "    [1,1],[1,2], \n",
        "    color=\"orange\",\n",
        "    s=80\n",
        ")\n",
        "plt.scatter(\n",
        "    [3,3],[0,1], \n",
        "    color=\"blue\",\n",
        "    s=80\n",
        ")\n",
        "plt.scatter(\n",
        "    [3],[4], \n",
        "    color=\"green\",\n",
        "    s=80\n",
        ")\n",
        "\n",
        "plt.xlim([0,4])\n",
        "plt.ylim([-1,5])\n",
        "plt.tight_layout()\n",
        "plt.grid('on')\n",
        "plt.title('1 Vizinho mais próximos\\ncom a métrica de Manhattan')\n",
        "plt.plot()"
      ],
      "metadata": {
        "colab": {
          "base_uri": "https://localhost:8080/",
          "height": 341
        },
        "id": "NuPdLvz6Imqp",
        "outputId": "906e34d7-f738-4412-86a1-c53fde288d81"
      },
      "execution_count": 59,
      "outputs": [
        {
          "output_type": "execute_result",
          "data": {
            "text/plain": [
              "[]"
            ]
          },
          "metadata": {},
          "execution_count": 59
        },
        {
          "output_type": "display_data",
          "data": {
            "text/plain": [
              "<Figure size 432x288 with 1 Axes>"
            ],
            "image/png": "[encoded data removed]"
          },
          "metadata": {
            "needs_background": "light"
          }
        }
      ]
    },
    {
      "cell_type": "markdown",
      "source": [
        "**Problema 2:** Considere o conjunto $${\\cal{Df}} = \\{ ((1,1),0), ((1,2),0), ((3,0),1), ((3,1),1)\\}.$$ Determine $\\phi(3,4)$ onde $\\phi$ é o classificador obtido pelo método do vizinho mais próximo considerando a distância de Euclideana."
      ],
      "metadata": {
        "id": "9phv1DnnCv3B"
      }
    },
    {
      "cell_type": "code",
      "source": [
        "k = 1\n",
        "phi = KNeighborsClassifier(\n",
        "    k, # número de vizinhos \n",
        "    metric='minkowski', \n",
        "    metric_params={'p': 2}\n",
        ")\n",
        "phi.fit(X, y)\n",
        "phi.predict([[3,4]])"
      ],
      "metadata": {
        "colab": {
          "base_uri": "https://localhost:8080/"
        },
        "id": "EstC-JC3EOUS",
        "outputId": "83245de7-600e-4cd3-8cf1-5f2fc47f7225"
      },
      "execution_count": 60,
      "outputs": [
        {
          "output_type": "stream",
          "name": "stderr",
          "text": [
            "/usr/local/lib/python3.9/dist-packages/sklearn/neighbors/_classification.py:215: SyntaxWarning: Parameter p is found in metric_params. The corresponding parameter from __init__ is ignored.\n",
            "  return self._fit(X, y)\n",
            "/usr/local/lib/python3.9/dist-packages/sklearn/base.py:439: UserWarning: X does not have valid feature names, but KNeighborsClassifier was fitted with feature names\n",
            "  warnings.warn(\n"
          ]
        },
        {
          "output_type": "execute_result",
          "data": {
            "text/plain": [
              "array([0])"
            ]
          },
          "metadata": {},
          "execution_count": 60
        }
      ]
    },
    {
      "cell_type": "code",
      "source": [
        "import matplotlib.pyplot as plt\n",
        "from sklearn.inspection import (\n",
        "    DecisionBoundaryDisplay)\n",
        "from matplotlib.colors import ListedColormap\n",
        "\n",
        "cmap_light = ListedColormap([\"orange\", \"cyan\", \"cornflowerblue\"])\n",
        "cmap_bold = [\"darkorange\", \"c\", \"darkblue\"]\n",
        "\n",
        "_, ax = plt.subplots()\n",
        "DecisionBoundaryDisplay.from_estimator(\n",
        "    phi,\n",
        "    X,\n",
        "    cmap=cmap_light,\n",
        "    ax=ax,\n",
        "    eps=3,\n",
        "    response_method=\"predict\",\n",
        "    plot_method=\"pcolormesh\",\n",
        "    xlabel='x1',\n",
        "    ylabel='x2',\n",
        "    shading=\"auto\",\n",
        "    alpha=0.6\n",
        ")\n",
        "plt.xticks([0,1,2,3,4], [0,1,2,3,4])\n",
        "plt.yticks([-1,0,1,2,3,4,5], [-1,0,1,2,3,4,5])\n",
        "plt.scatter(\n",
        "    [1,1],[1,2], \n",
        "    color=\"orange\",\n",
        "    s=80\n",
        ")\n",
        "plt.scatter(\n",
        "    [3,3],[0,1], \n",
        "    color=\"blue\",\n",
        "    s=80\n",
        ")\n",
        "plt.scatter(\n",
        "    [3],[4], \n",
        "    color=\"green\",\n",
        "    s=80\n",
        ")\n",
        "\n",
        "plt.xlim([0,4])\n",
        "plt.ylim([-1,5])\n",
        "plt.tight_layout()\n",
        "plt.grid('on')\n",
        "plt.title('1 Vizinho mais próximos\\ncom a métrica euclideana')\n",
        "plt.plot()"
      ],
      "metadata": {
        "colab": {
          "base_uri": "https://localhost:8080/",
          "height": 341
        },
        "id": "0N1Eo6I9EZGY",
        "outputId": "c481378c-6c7a-45d6-e8b6-55bf825a0438"
      },
      "execution_count": 61,
      "outputs": [
        {
          "output_type": "execute_result",
          "data": {
            "text/plain": [
              "[]"
            ]
          },
          "metadata": {},
          "execution_count": 61
        },
        {
          "output_type": "display_data",
          "data": {
            "text/plain": [
              "<Figure size 432x288 with 1 Axes>"
            ],
            "image/png": "[encoded data removed]"
          },
          "metadata": {
            "needs_background": "light"
          }
        }
      ]
    },
    {
      "cell_type": "markdown",
      "source": [
        "**Problema 3:** Considere o conjunto de dados Iris. Determine a acurácia do classificador obtido pelo método dos 5 vizinhos mais próximos considerando a métrica euclideana."
      ],
      "metadata": {
        "id": "CYwv4stnMK4n"
      }
    },
    {
      "cell_type": "code",
      "source": [
        "from sklearn.datasets import load_iris\n",
        "\n",
        "data = load_iris()\n",
        "X = data.data\n",
        "y = data.target\n",
        "k = 5\n",
        "phi = KNeighborsClassifier(\n",
        "    k, # número de vizinhos \n",
        "    metric='minkowski', \n",
        "    metric_params={'p': 2}\n",
        ")\n",
        "phi.fit(X, y)\n",
        "phi.score(X, y)"
      ],
      "metadata": {
        "colab": {
          "base_uri": "https://localhost:8080/"
        },
        "id": "HMA841hCFzkY",
        "outputId": "c04fe8a1-6f4c-4eaa-b68d-308863a2904a"
      },
      "execution_count": 63,
      "outputs": [
        {
          "output_type": "stream",
          "name": "stderr",
          "text": [
            "/usr/local/lib/python3.9/dist-packages/sklearn/neighbors/_classification.py:215: SyntaxWarning: Parameter p is found in metric_params. The corresponding parameter from __init__ is ignored.\n",
            "  return self._fit(X, y)\n"
          ]
        },
        {
          "output_type": "execute_result",
          "data": {
            "text/plain": [
              "0.9666666666666667"
            ]
          },
          "metadata": {},
          "execution_count": 63
        }
      ]
    },
    {
      "cell_type": "code",
      "source": [],
      "metadata": {
        "id": "obxpf3lyLMFW"
      },
      "execution_count": null,
      "outputs": []
    }
  ]
}