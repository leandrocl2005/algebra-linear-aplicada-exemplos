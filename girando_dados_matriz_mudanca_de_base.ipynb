{
  "nbformat": 4,
  "nbformat_minor": 0,
  "metadata": {
    "colab": {
      "name": "girando_dados_matriz_mudanca_de_base.ipynb",
      "provenance": [],
      "collapsed_sections": []
    },
    "kernelspec": {
      "name": "python3",
      "display_name": "Python 3"
    },
    "language_info": {
      "name": "python"
    }
  },
  "cells": [
    {
      "cell_type": "markdown",
      "source": [
        "# Girando dados com matrizes mudança de base"
      ],
      "metadata": {
        "id": "eqmn_yrYOf67"
      }
    },
    {
      "cell_type": "markdown",
      "source": [
        "## Passo 1: Escolha os dados ou gere alguns"
      ],
      "metadata": {
        "id": "PeK0SjeOFQNi"
      }
    },
    {
      "cell_type": "code",
      "source": [
        "import pandas as pd\n",
        "\n",
        "# escolhi os dados das flores da espécie iris\n",
        "dados = pd.read_csv(\n",
        "    'https://archive.ics.uci.edu/ml/machine-learning-databases/iris/bezdekIris.data', header=None)\n",
        "dados.columns = ['sepal_length', 'sepal_width', 'petal_length', 'petal_width', 'class']\n",
        "\n",
        "# veja as 3 primeiras linhas\n",
        "dados.head(3)"
      ],
      "metadata": {
        "colab": {
          "base_uri": "https://localhost:8080/",
          "height": 143
        },
        "id": "ZB7MvUbXIdUw",
        "outputId": "eb222c0b-9d46-41be-d2b0-a3146bcedfd9"
      },
      "execution_count": 61,
      "outputs": [
        {
          "output_type": "execute_result",
          "data": {
            "text/plain": [
              "   sepal_length  sepal_width  petal_length  petal_width        class\n",
              "0           5.1          3.5           1.4          0.2  Iris-setosa\n",
              "1           4.9          3.0           1.4          0.2  Iris-setosa\n",
              "2           4.7          3.2           1.3          0.2  Iris-setosa"
            ],
            "text/html": [
              "\n",
              "  <div id=\"df-3f0bbc49-762e-4f34-9d08-1aeee90c7a60\">\n",
              "    <div class=\"colab-df-container\">\n",
              "      <div>\n",
              "<style scoped>\n",
              "    .dataframe tbody tr th:only-of-type {\n",
              "        vertical-align: middle;\n",
              "    }\n",
              "\n",
              "    .dataframe tbody tr th {\n",
              "        vertical-align: top;\n",
              "    }\n",
              "\n",
              "    .dataframe thead th {\n",
              "        text-align: right;\n",
              "    }\n",
              "</style>\n",
              "<table border=\"1\" class=\"dataframe\">\n",
              "  <thead>\n",
              "    <tr style=\"text-align: right;\">\n",
              "      <th></th>\n",
              "      <th>sepal_length</th>\n",
              "      <th>sepal_width</th>\n",
              "      <th>petal_length</th>\n",
              "      <th>petal_width</th>\n",
              "      <th>class</th>\n",
              "    </tr>\n",
              "  </thead>\n",
              "  <tbody>\n",
              "    <tr>\n",
              "      <th>0</th>\n",
              "      <td>5.1</td>\n",
              "      <td>3.5</td>\n",
              "      <td>1.4</td>\n",
              "      <td>0.2</td>\n",
              "      <td>Iris-setosa</td>\n",
              "    </tr>\n",
              "    <tr>\n",
              "      <th>1</th>\n",
              "      <td>4.9</td>\n",
              "      <td>3.0</td>\n",
              "      <td>1.4</td>\n",
              "      <td>0.2</td>\n",
              "      <td>Iris-setosa</td>\n",
              "    </tr>\n",
              "    <tr>\n",
              "      <th>2</th>\n",
              "      <td>4.7</td>\n",
              "      <td>3.2</td>\n",
              "      <td>1.3</td>\n",
              "      <td>0.2</td>\n",
              "      <td>Iris-setosa</td>\n",
              "    </tr>\n",
              "  </tbody>\n",
              "</table>\n",
              "</div>\n",
              "      <button class=\"colab-df-convert\" onclick=\"convertToInteractive('df-3f0bbc49-762e-4f34-9d08-1aeee90c7a60')\"\n",
              "              title=\"Convert this dataframe to an interactive table.\"\n",
              "              style=\"display:none;\">\n",
              "        \n",
              "  <svg xmlns=\"http://www.w3.org/2000/svg\" height=\"24px\"viewBox=\"0 0 24 24\"\n",
              "       width=\"24px\">\n",
              "    <path d=\"M0 0h24v24H0V0z\" fill=\"none\"/>\n",
              "    <path d=\"M18.56 5.44l.94 2.06.94-2.06 2.06-.94-2.06-.94-.94-2.06-.94 2.06-2.06.94zm-11 1L8.5 8.5l.94-2.06 2.06-.94-2.06-.94L8.5 2.5l-.94 2.06-2.06.94zm10 10l.94 2.06.94-2.06 2.06-.94-2.06-.94-.94-2.06-.94 2.06-2.06.94z\"/><path d=\"M17.41 7.96l-1.37-1.37c-.4-.4-.92-.59-1.43-.59-.52 0-1.04.2-1.43.59L10.3 9.45l-7.72 7.72c-.78.78-.78 2.05 0 2.83L4 21.41c.39.39.9.59 1.41.59.51 0 1.02-.2 1.41-.59l7.78-7.78 2.81-2.81c.8-.78.8-2.07 0-2.86zM5.41 20L4 18.59l7.72-7.72 1.47 1.35L5.41 20z\"/>\n",
              "  </svg>\n",
              "      </button>\n",
              "      \n",
              "  <style>\n",
              "    .colab-df-container {\n",
              "      display:flex;\n",
              "      flex-wrap:wrap;\n",
              "      gap: 12px;\n",
              "    }\n",
              "\n",
              "    .colab-df-convert {\n",
              "      background-color: #E8F0FE;\n",
              "      border: none;\n",
              "      border-radius: 50%;\n",
              "      cursor: pointer;\n",
              "      display: none;\n",
              "      fill: #1967D2;\n",
              "      height: 32px;\n",
              "      padding: 0 0 0 0;\n",
              "      width: 32px;\n",
              "    }\n",
              "\n",
              "    .colab-df-convert:hover {\n",
              "      background-color: #E2EBFA;\n",
              "      box-shadow: 0px 1px 2px rgba(60, 64, 67, 0.3), 0px 1px 3px 1px rgba(60, 64, 67, 0.15);\n",
              "      fill: #174EA6;\n",
              "    }\n",
              "\n",
              "    [theme=dark] .colab-df-convert {\n",
              "      background-color: #3B4455;\n",
              "      fill: #D2E3FC;\n",
              "    }\n",
              "\n",
              "    [theme=dark] .colab-df-convert:hover {\n",
              "      background-color: #434B5C;\n",
              "      box-shadow: 0px 1px 3px 1px rgba(0, 0, 0, 0.15);\n",
              "      filter: drop-shadow(0px 1px 2px rgba(0, 0, 0, 0.3));\n",
              "      fill: #FFFFFF;\n",
              "    }\n",
              "  </style>\n",
              "\n",
              "      <script>\n",
              "        const buttonEl =\n",
              "          document.querySelector('#df-3f0bbc49-762e-4f34-9d08-1aeee90c7a60 button.colab-df-convert');\n",
              "        buttonEl.style.display =\n",
              "          google.colab.kernel.accessAllowed ? 'block' : 'none';\n",
              "\n",
              "        async function convertToInteractive(key) {\n",
              "          const element = document.querySelector('#df-3f0bbc49-762e-4f34-9d08-1aeee90c7a60');\n",
              "          const dataTable =\n",
              "            await google.colab.kernel.invokeFunction('convertToInteractive',\n",
              "                                                     [key], {});\n",
              "          if (!dataTable) return;\n",
              "\n",
              "          const docLinkHtml = 'Like what you see? Visit the ' +\n",
              "            '<a target=\"_blank\" href=https://colab.research.google.com/notebooks/data_table.ipynb>data table notebook</a>'\n",
              "            + ' to learn more about interactive tables.';\n",
              "          element.innerHTML = '';\n",
              "          dataTable['output_type'] = 'display_data';\n",
              "          await google.colab.output.renderOutput(dataTable, element);\n",
              "          const docLink = document.createElement('div');\n",
              "          docLink.innerHTML = docLinkHtml;\n",
              "          element.appendChild(docLink);\n",
              "        }\n",
              "      </script>\n",
              "    </div>\n",
              "  </div>\n",
              "  "
            ]
          },
          "metadata": {},
          "execution_count": 61
        }
      ]
    },
    {
      "cell_type": "markdown",
      "source": [
        "## Passo 2: Escolha duas colunas"
      ],
      "metadata": {
        "id": "M0s6xXnhIdXo"
      }
    },
    {
      "cell_type": "code",
      "source": [
        "colunas_escolhidas = dados[['sepal_length', 'sepal_width']]"
      ],
      "metadata": {
        "id": "ANk_Pm9VIdao"
      },
      "execution_count": 62,
      "outputs": []
    },
    {
      "cell_type": "markdown",
      "source": [
        "## Passo 3: Transforme a tabela em uma matriz com duas colunas"
      ],
      "metadata": {
        "id": "Gi0eeKHhKJWD"
      }
    },
    {
      "cell_type": "code",
      "source": [
        "colunas_escolhidas = colunas_escolhidas.values\n",
        "# conferindo as dimensões da matriz\n",
        "# A sua poderá ter mais ou menos linhas\n",
        "colunas_escolhidas.shape"
      ],
      "metadata": {
        "colab": {
          "base_uri": "https://localhost:8080/"
        },
        "id": "ggfrmRAoIddH",
        "outputId": "9400193d-b4b9-4b46-9c20-d5a69ddd1567"
      },
      "execution_count": 63,
      "outputs": [
        {
          "output_type": "execute_result",
          "data": {
            "text/plain": [
              "(150, 2)"
            ]
          },
          "metadata": {},
          "execution_count": 63
        }
      ]
    },
    {
      "cell_type": "markdown",
      "source": [
        "## Passo 4: Faça o gráfico (x: coluna 1, y: coluna 2)"
      ],
      "metadata": {
        "id": "hri5-gLKIdf5"
      }
    },
    {
      "cell_type": "code",
      "source": [
        "import matplotlib.pyplot as plt\n",
        "x = colunas_escolhidas[:,0]\n",
        "y = colunas_escolhidas[:,1]\n",
        "plt.scatter(x, y)\n",
        "plt.show()"
      ],
      "metadata": {
        "colab": {
          "base_uri": "https://localhost:8080/",
          "height": 268
        },
        "id": "PdiyEqk2Idip",
        "outputId": "a67b5dc6-c6ba-439a-ad6f-a3505b40058c"
      },
      "execution_count": 64,
      "outputs": [
        {
          "output_type": "display_data",
          "data": {
            "text/plain": [
              "<Figure size 432x288 with 1 Axes>"
            ],
            "image/png": "[encoded data removed]"
          },
          "metadata": {
            "needs_background": "light"
          }
        }
      ]
    },
    {
      "cell_type": "markdown",
      "source": [
        "## Passo 5: Escolha o tamanho dos eixos"
      ],
      "metadata": {
        "id": "VMt-6XgEIdlb"
      }
    },
    {
      "cell_type": "code",
      "source": [
        "# se no resultado final, o gráfico cortar, aumente o epsilon\n",
        "# senão, deixe tudo como está e vá para o próximo passo\n",
        "epsilon = 2\n",
        "maior_valor = max(abs(x.max()), abs(x.min()), abs(y.max()), abs(y.min()))+epsilon\n",
        "x_max = maior_valor\n",
        "x_min = -maior_valor\n",
        "y_max = maior_valor\n",
        "y_min = -maior_valor"
      ],
      "metadata": {
        "id": "I0OnJEKJFUw-"
      },
      "execution_count": 65,
      "outputs": []
    },
    {
      "cell_type": "markdown",
      "source": [
        "## Passo 6: Defina a matriz mudança de base da rotação"
      ],
      "metadata": {
        "id": "gVbnlcfkLhzC"
      }
    },
    {
      "cell_type": "markdown",
      "source": [
        "Fazendo\n",
        "\n",
        "$$(x,y) = \\tilde{x} (cos(\\theta),sen(\\theta)) + \\tilde{y} (-sen(\\theta),cos(\\theta))$$\n",
        "\n",
        "temos que a matriz de mudança de base fica\n",
        "\n",
        "$$\n",
        "\\left(\\begin{array}{c}\n",
        "\\tilde{x} \\\\ \\tilde{y}\n",
        "\\end{array}\\right) = \n",
        "\\left(\\begin{array}{cc}\n",
        "cos(\\theta) & sen(\\theta) \\\\ -sen(\\theta) & cos(\\theta)\n",
        "\\end{array}\\right)\n",
        "\\left(\\begin{array}{c}\n",
        "x \\\\ y\n",
        "\\end{array}\\right)\n",
        "$$"
      ],
      "metadata": {
        "id": "C-BrJ3m-Lpug"
      }
    },
    {
      "cell_type": "markdown",
      "source": [
        "## Passo 7: Gire os dados usando a matriz e faça o gráfico"
      ],
      "metadata": {
        "id": "XPydXKcPGfCf"
      }
    },
    {
      "cell_type": "code",
      "source": [
        "# Relax! Se tudo deu certo até aqui é só copiar, colar e ser feliz!\n",
        "\n",
        "import numpy as np\n",
        "\n",
        "# giraremos em 0, 20, 40, ..., 360 graus\n",
        "for graus in range(0,361,20):\n",
        "\n",
        "  angle = (graus/360) * 2 * np.pi       # convertendo para radianos\n",
        "  matriz_mudanca_de_base = np.array([ \n",
        "    [np.cos(angle),np.sin(angle)],\n",
        "    [-np.sin(angle),np.cos(angle)]\n",
        "  ])\n",
        "  dados_rotacionados = np.matmul(colunas_escolhidas, matriz_mudanca_de_base)\n",
        "  x = dados_rotacionados[:,0]\n",
        "  y = dados_rotacionados[:,1]\n",
        "  plt.scatter(x, y)\n",
        "  plt.xlim([x_min, x_max])\n",
        "  plt.ylim([y_min, y_max])\n",
        "plt.show()"
      ],
      "metadata": {
        "colab": {
          "base_uri": "https://localhost:8080/",
          "height": 265
        },
        "id": "CuHVhf3_Glxn",
        "outputId": "a1543809-6ced-422c-9f91-c7ebd04eef56"
      },
      "execution_count": 66,
      "outputs": [
        {
          "output_type": "display_data",
          "data": {
            "text/plain": [
              "<Figure size 432x288 with 1 Axes>"
            ],
            "image/png": "[encoded data removed]"
          },
          "metadata": {
            "needs_background": "light"
          }
        }
      ]
    },
    {
      "cell_type": "code",
      "source": [
        ""
      ],
      "metadata": {
        "id": "7yJqTfCoH5zn"
      },
      "execution_count": null,
      "outputs": []
    }
  ]
}